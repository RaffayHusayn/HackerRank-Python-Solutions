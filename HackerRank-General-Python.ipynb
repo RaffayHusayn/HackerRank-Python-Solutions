{
 "cells": [
  {
   "cell_type": "markdown",
   "id": "44726269",
   "metadata": {},
   "source": [
    "# General Python Hacker Rank Questions"
   ]
  },
  {
   "cell_type": "markdown",
   "id": "17a92046",
   "metadata": {},
   "source": [
    "## Task 1:\n",
    "\n",
    "In this challenge, the user enters a string and a substring. You have to print the number of times that the substring occurs in the given string. String traversal will take place from left to right, not from right to left.\n",
    "\n",
    "#### Input Format\n",
    "The first line of input contains the original string. The next line contains the substring.\n",
    "\n",
    "#### Output Format\n",
    "Output the integer number indicating the total number of occurrences of the substring in the original string.\n",
    "\n",
    "#### Sample Input\n",
    "String: ABCDCDC\n",
    "Substring: CDC\n",
    "\n",
    "#### Sample Output\n",
    "2"
   ]
  },
  {
   "cell_type": "code",
   "execution_count": 1,
   "id": "04912b79",
   "metadata": {},
   "outputs": [
    {
     "name": "stdout",
     "output_type": "stream",
     "text": [
      "ababab\n",
      "ab\n",
      "3\n"
     ]
    }
   ],
   "source": [
    "def count_substring(string, sub_string):\n",
    "    count = 0\n",
    "    subLen = len(sub_string)\n",
    "    if len(string) >= subLen: #because why even try if string is shorter than substring; always 0\n",
    "        for i in range(len(string)-subLen+1):#to not have to go till the end of the string\n",
    "            if string[i:i+subLen] == sub_string:\n",
    "             count = count+1\n",
    "    return count        \n",
    "\n",
    "if __name__ == '__main__':\n",
    "    string = input().strip()\n",
    "    sub_string = input().strip()\n",
    "    \n",
    "    count = count_substring(string, sub_string)\n",
    "    print(count)"
   ]
  },
  {
   "cell_type": "markdown",
   "id": "742aaea6",
   "metadata": {},
   "source": [
    "## Task 2:\n",
    "You are given a string S.\n",
    "Your task is to find out if the string S contains: alphanumeric characters, alphabetical characters, digits, lowercase and uppercase characters.\n",
    "\n",
    "#### Input Format\n",
    "A single line containing a string S.\n",
    "\n",
    "\n",
    "#### Output Format\n",
    "In the first line, print True if S has any alphanumeric characters. Otherwise, print False.\n",
    "In the second line, print True if S has any alphabetical characters. Otherwise, print False.\n",
    "In the third line, print True if S has any digits. Otherwise, print False.\n",
    "In the fourth line, print True if S has any lowercase characters. Otherwise, print False.\n",
    "In the fifth line, print True if S has any uppercase characters. Otherwise, print False."
   ]
  },
  {
   "cell_type": "code",
   "execution_count": 52,
   "id": "24c39958",
   "metadata": {},
   "outputs": [
    {
     "name": "stdout",
     "output_type": "stream",
     "text": [
      "2ded\n",
      "True\n",
      "True\n",
      "True\n",
      "True\n",
      "False\n"
     ]
    }
   ],
   "source": [
    "if __name__ == '__main__':\n",
    "    str = input()\n",
    "    print(any(c.isalnum() for c in str))\n",
    "    print(any(c.isalpha() for c in str))\n",
    "    print(any(c.isdigit() for c in str))\n",
    "    print(any(c.islower() for c in str))\n",
    "    print(any(c.isupper() for c in str))\n"
   ]
  },
  {
   "cell_type": "markdown",
   "id": "12d77a13",
   "metadata": {},
   "source": [
    "## Task 3:\n",
    "You are given a partial code that is used for generating the HackerRank Logo of variable thickness.\n",
    "Your task is to replace the blank (______) with rjust, ljust or center.\n",
    "\n",
    "#### Input Format\n",
    "\n",
    "A single line containing the thickness value for the logo.\n",
    "\n",
    "The thickness must be an odd number.\n",
    "\n",
    "#### Output Format\n",
    "\n",
    "Output the desired logo."
   ]
  },
  {
   "cell_type": "code",
   "execution_count": 76,
   "id": "c9bfebdb",
   "metadata": {},
   "outputs": [
    {
     "name": "stdout",
     "output_type": "stream",
     "text": [
      "5\n",
      "    H    \n",
      "   HHH   \n",
      "  HHHHH  \n",
      " HHHHHHH \n",
      "HHHHHHHHH\n",
      "  HHHHH               HHHHH             \n",
      "  HHHHH               HHHHH             \n",
      "  HHHHH               HHHHH             \n",
      "  HHHHH               HHHHH             \n",
      "  HHHHH               HHHHH             \n",
      "  HHHHH               HHHHH             \n",
      "  HHHHHHHHHHHHHHHHHHHHHHHHH   \n",
      "  HHHHHHHHHHHHHHHHHHHHHHHHH   \n",
      "  HHHHHHHHHHHHHHHHHHHHHHHHH   \n",
      "  HHHHH               HHHHH             \n",
      "  HHHHH               HHHHH             \n",
      "  HHHHH               HHHHH             \n",
      "  HHHHH               HHHHH             \n",
      "  HHHHH               HHHHH             \n",
      "  HHHHH               HHHHH             \n",
      "                    HHHHHHHHH \n",
      "                     HHHHHHH  \n",
      "                      HHHHH   \n",
      "                       HHH    \n",
      "                        H     \n"
     ]
    }
   ],
   "source": [
    "#Replace all ______ with rjust, ljust or center. \n",
    "\n",
    "thickness = int(input()) #This must be an odd number\n",
    "c = 'H'\n",
    "\n",
    "#Top Cone\n",
    "for i in range(thickness):\n",
    "    print((c*i).rjust(thickness-1)+c+(c*i).ljust(thickness-1))\n",
    "\n",
    "#Top Pillars\n",
    "for i in range(thickness+1):\n",
    "    print((c*thickness).center(thickness*2)+(c*thickness).center(thickness*6))\n",
    "\n",
    "#Middle Belt\n",
    "for i in range((thickness+1)//2):\n",
    "    print((c*thickness*5).center(thickness*6))    \n",
    "\n",
    "#Bottom Pillars\n",
    "for i in range(thickness+1):\n",
    "    print((c*thickness).center(thickness*2)+(c*thickness).center(thickness*6))    \n",
    "\n",
    "#Bottom Cone\n",
    "for i in range(thickness):\n",
    "    print(((c*(thickness-i-1)).rjust(thickness)+c+(c*(thickness-i-1)).ljust(thickness)).rjust(thickness*6))"
   ]
  },
  {
   "cell_type": "code",
   "execution_count": null,
   "id": "2d552fa0",
   "metadata": {},
   "outputs": [],
   "source": []
  },
  {
   "cell_type": "code",
   "execution_count": null,
   "id": "c7c83b4a",
   "metadata": {},
   "outputs": [],
   "source": []
  }
 ],
 "metadata": {
  "kernelspec": {
   "display_name": "Python 3 (ipykernel)",
   "language": "python",
   "name": "python3"
  },
  "language_info": {
   "codemirror_mode": {
    "name": "ipython",
    "version": 3
   },
   "file_extension": ".py",
   "mimetype": "text/x-python",
   "name": "python",
   "nbconvert_exporter": "python",
   "pygments_lexer": "ipython3",
   "version": "3.9.6"
  }
 },
 "nbformat": 4,
 "nbformat_minor": 5
}
