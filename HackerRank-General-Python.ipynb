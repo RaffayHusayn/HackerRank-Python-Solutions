{
 "cells": [
  {
   "cell_type": "markdown",
   "id": "44726269",
   "metadata": {},
   "source": [
    "# General Python Hacker Rank Questions"
   ]
  },
  {
   "cell_type": "markdown",
   "id": "17a92046",
   "metadata": {},
   "source": [
    "## Task 1:\n",
    "\n",
    "In this challenge, the user enters a string and a substring. You have to print the number of times that the substring occurs in the given string. String traversal will take place from left to right, not from right to left.\n",
    "\n",
    "#### Input Format\n",
    "The first line of input contains the original string. The next line contains the substring.\n",
    "\n",
    "#### Output Format\n",
    "Output the integer number indicating the total number of occurrences of the substring in the original string.\n",
    "\n",
    "#### Sample Input\n",
    "String: ABCDCDC\n",
    "Substring: CDC\n",
    "\n",
    "#### Sample Output\n",
    "2"
   ]
  },
  {
   "cell_type": "code",
   "execution_count": 1,
   "id": "04912b79",
   "metadata": {},
   "outputs": [
    {
     "name": "stdout",
     "output_type": "stream",
     "text": [
      "ababab\n",
      "ab\n",
      "3\n"
     ]
    }
   ],
   "source": [
    "def count_substring(string, sub_string):\n",
    "    count = 0\n",
    "    subLen = len(sub_string)\n",
    "    if len(string) >= subLen: #because why even try if string is shorter than substring; always 0\n",
    "        for i in range(len(string)-subLen+1):#to not have to go till the end of the string\n",
    "            if string[i:i+subLen] == sub_string:\n",
    "             count = count+1\n",
    "    return count        \n",
    "\n",
    "if __name__ == '__main__':\n",
    "    string = input().strip()\n",
    "    sub_string = input().strip()\n",
    "    \n",
    "    count = count_substring(string, sub_string)\n",
    "    print(count)"
   ]
  },
  {
   "cell_type": "markdown",
   "id": "742aaea6",
   "metadata": {},
   "source": [
    "## Task 2:\n",
    "You are given a string S.\n",
    "Your task is to find out if the string S contains: alphanumeric characters, alphabetical characters, digits, lowercase and uppercase characters.\n",
    "\n",
    "#### Input Format\n",
    "A single line containing a string S.\n",
    "\n",
    "\n",
    "#### Output Format\n",
    "In the first line, print True if S has any alphanumeric characters. Otherwise, print False.\n",
    "In the second line, print True if S has any alphabetical characters. Otherwise, print False.\n",
    "In the third line, print True if S has any digits. Otherwise, print False.\n",
    "In the fourth line, print True if S has any lowercase characters. Otherwise, print False.\n",
    "In the fifth line, print True if S has any uppercase characters. Otherwise, print False."
   ]
  },
  {
   "cell_type": "code",
   "execution_count": 52,
   "id": "24c39958",
   "metadata": {},
   "outputs": [
    {
     "name": "stdout",
     "output_type": "stream",
     "text": [
      "2ded\n",
      "True\n",
      "True\n",
      "True\n",
      "True\n",
      "False\n"
     ]
    }
   ],
   "source": [
    "if __name__ == '__main__':\n",
    "    str = input()\n",
    "    print(any(c.isalnum() for c in str))\n",
    "    print(any(c.isalpha() for c in str))\n",
    "    print(any(c.isdigit() for c in str))\n",
    "    print(any(c.islower() for c in str))\n",
    "    print(any(c.isupper() for c in str))\n"
   ]
  },
  {
   "cell_type": "markdown",
   "id": "ecffbcd3",
   "metadata": {},
   "source": [
    "## Task 3:\n",
    "You are given a partial code that is used for generating the HackerRank Logo of variable thickness.\n",
    "Your task is to replace the blank (______) with rjust, ljust or center.\n",
    "\n",
    "#### Input Format\n",
    "A single line containing the thickness value for the logo.\n",
    "The thickness must be an odd number.\n",
    "\n",
    "#### Output Format\n",
    "Output the desired logo."
   ]
  },
  {
   "cell_type": "code",
   "execution_count": 81,
   "id": "a5d37c01",
   "metadata": {},
   "outputs": [
    {
     "name": "stdout",
     "output_type": "stream",
     "text": [
      "5\n",
      "    H    \n",
      "   HHH   \n",
      "  HHHHH  \n",
      " HHHHHHH \n",
      "HHHHHHHHH\n",
      "  HHHHH               HHHHH             \n",
      "  HHHHH               HHHHH             \n",
      "  HHHHH               HHHHH             \n",
      "  HHHHH               HHHHH             \n",
      "  HHHHH               HHHHH             \n",
      "  HHHHH               HHHHH             \n",
      "  HHHHHHHHHHHHHHHHHHHHHHHHH   \n",
      "  HHHHHHHHHHHHHHHHHHHHHHHHH   \n",
      "  HHHHHHHHHHHHHHHHHHHHHHHHH   \n",
      "  HHHHH               HHHHH             \n",
      "  HHHHH               HHHHH             \n",
      "  HHHHH               HHHHH             \n",
      "  HHHHH               HHHHH             \n",
      "  HHHHH               HHHHH             \n",
      "  HHHHH               HHHHH             \n",
      "                    HHHHHHHHH \n",
      "                     HHHHHHH  \n",
      "                      HHHHH   \n",
      "                       HHH    \n",
      "                        H     \n"
     ]
    }
   ],
   "source": [
    "#Replace all ______ with rjust, ljust or center. \n",
    "\n",
    "thickness = int(input()) #This must be an odd number\n",
    "c = 'H'\n",
    "\n",
    "#Top Cone\n",
    "for i in range(thickness):\n",
    "    print((c*i).rjust(thickness-1)+c+(c*i).ljust(thickness-1))\n",
    "\n",
    "#Top Pillars\n",
    "for i in range(thickness+1):\n",
    "    print((c*thickness).center(thickness*2)+(c*thickness).center(thickness*6))\n",
    "\n",
    "#Middle Belt\n",
    "for i in range((thickness+1)//2):\n",
    "    print((c*thickness*5).center(thickness*6))    \n",
    "\n",
    "#Bottom Pillars\n",
    "for i in range(thickness+1):\n",
    "    print((c*thickness).center(thickness*2)+(c*thickness).center(thickness*6))    \n",
    "\n",
    "#Bottom Cone\n",
    "for i in range(thickness):\n",
    "    print(((c*(thickness-i-1)).rjust(thickness)+c+(c*(thickness-i-1)).ljust(thickness)).rjust(thickness*6))"
   ]
  },
  {
   "cell_type": "markdown",
   "id": "53625da8",
   "metadata": {},
   "source": [
    "## Task 4:\n",
    "Given an integer,n , perform the following conditional actions:\n",
    "\n",
    " 1. If n is odd, print Weird\n",
    " 2. If n is even and in the inclusive range of 2 to 5, print Not Weird\n",
    " 3. If n is even and in the inclusive range of 6 to 20, print Weird\n",
    " 4. If n is even and greater than 20, print Not Weird"
   ]
  },
  {
   "cell_type": "code",
   "execution_count": null,
   "id": "336e010e",
   "metadata": {},
   "outputs": [],
   "source": [
    "if __name__ =='__main__':\n",
    "    n = int(input())\n",
    "    if n%2 != 0:\n",
    "        print(\"Weird\")\n",
    "    else:\n",
    "        if n in range(2,6): # range(2,6) means checking from 2 to 5; 6 is excluded\n",
    "            print(\"Not Weird\")\n",
    "        elif n in range(6,21): # means checking from 6 to 20; 21 is excluded\n",
    "            print(\"Weird\")\n",
    "        else: \n",
    "            print(\"Not weird\")"
   ]
  },
  {
   "cell_type": "markdown",
   "id": "b93f8ec5",
   "metadata": {},
   "source": [
    "## Task 5:\n",
    "# List Comprehensions\n",
    "\n",
    " Let's learn about list comprehensions! You are given three integers X, Y and Z representing the dimensions of a cuboid along with an\n",
    "integer N. You have to print a list of all possible coordinates given by (i, j, k) on a 3D grid where the sum of i + j + k  is not\n",
    "equal to N. Here, 0 <= i <= X; 0 <= j <= Y; 0 <= k <= Z \n",
    "\n",
    "#### Input Format\n",
    " Four integers X, Y, Z and N each on four separate lines, respectively.\n",
    "\n",
    "#### Constraints\n",
    "Print the list in lexicographic increasing order.\n",
    "\n",
    "#### Sample Input\n",
    " 1\n",
    " 1\n",
    " 1\n",
    " 2\n",
    "\n",
    "#### Sample Output\n",
    "[[0, 0, 0], [0, 0, 1], [0, 1, 0], [1, 0, 0], [1, 1, 1]]"
   ]
  },
  {
   "cell_type": "code",
   "execution_count": 3,
   "id": "95eadde9",
   "metadata": {},
   "outputs": [
    {
     "name": "stdout",
     "output_type": "stream",
     "text": [
      "2\n",
      "3\n",
      "4\n",
      "3\n",
      "[[0, 0, 0], [0, 0, 1], [0, 0, 2], [0, 0, 4], [0, 1, 0], [0, 1, 1], [0, 1, 3], [0, 1, 4], [0, 2, 0], [0, 2, 2], [0, 2, 3], [0, 2, 4], [0, 3, 1], [0, 3, 2], [0, 3, 3], [0, 3, 4], [1, 0, 0], [1, 0, 1], [1, 0, 3], [1, 0, 4], [1, 1, 0], [1, 1, 2], [1, 1, 3], [1, 1, 4], [1, 2, 1], [1, 2, 2], [1, 2, 3], [1, 2, 4], [1, 3, 0], [1, 3, 1], [1, 3, 2], [1, 3, 3], [1, 3, 4], [2, 0, 0], [2, 0, 2], [2, 0, 3], [2, 0, 4], [2, 1, 1], [2, 1, 2], [2, 1, 3], [2, 1, 4], [2, 2, 0], [2, 2, 1], [2, 2, 2], [2, 2, 3], [2, 2, 4], [2, 3, 0], [2, 3, 1], [2, 3, 2], [2, 3, 3], [2, 3, 4]]\n"
     ]
    }
   ],
   "source": [
    "if __name__ == '__main__':\n",
    "    x = int(input())\n",
    "    y = int(input())\n",
    "    z = int(input())\n",
    "    n = int(input())\n",
    "    iVals = [i for i in range(x+1)]\n",
    "    jVals = [j for j in range(y+1)]\n",
    "    kVals = [k for k in range(z+1)]\n",
    "    comb = [[i,j,k] for i in iVals for j in jVals for k in kVals]\n",
    "    final = [x for x in comb if sum(x)!= n]\n",
    "    \n",
    "    #this can be also be done in 1 line as:\n",
    "    \n",
    "    #final = [[i,j,k] for i in range(x+1) for j in range(y+1) for k in range(z+1) if i+j+k != n]\n",
    "    print(final)"
   ]
  },
  {
   "cell_type": "markdown",
   "id": "627fdde0",
   "metadata": {},
   "source": [
    "## Task 6:\n",
    "Given the participants' score sheet for your University Sports Day, you are required to find the runner-up score. You are given  scores. Store them in a list and find the score of the runner-up.\n",
    "\n",
    "#### Input Format\n",
    "The first line contains n. The second line contains an array A[] of n integers each separated by a space.\n",
    "\n",
    "#### Output Format\n",
    "Print the runner-up score.\n",
    "\n",
    "#### Sample Input 0\n",
    "5\n",
    "2 3 6 6 5\n",
    "#### Sample Output 0\n",
    "5"
   ]
  },
  {
   "cell_type": "code",
   "execution_count": null,
   "id": "b9b62c32",
   "metadata": {},
   "outputs": [],
   "source": [
    "if __name__ == \"__main__\":\n",
    "    n = int(input())\n",
    "    arr = list(map(int, input().split()))\n",
    "    largest = max(arr)\n",
    "    newArr = [x for x in arr if x < largest]\n",
    "    print(max(newArr))"
   ]
  },
  {
   "cell_type": "markdown",
   "id": "23a52578",
   "metadata": {},
   "source": [
    "## Task 7:\n",
    "You are given three integers: a, b, m and . Print two lines.\n",
    "On the first line, print the result of pow(a,b). \n",
    "On the second line, print the result of pow(a,b,m)."
   ]
  },
  {
   "cell_type": "code",
   "execution_count": null,
   "id": "6db74cb2",
   "metadata": {},
   "outputs": [],
   "source": [
    "if __name__ == \"__main__\":\n",
    "    a= int(input())\n",
    "    b= int(input())\n",
    "    m= int(input())\n",
    "    \n",
    "    print(pow(a,b))\n",
    "    print(pow(a,b,m))"
   ]
  },
  {
   "cell_type": "code",
   "execution_count": null,
   "id": "e624e2cc",
   "metadata": {},
   "outputs": [],
   "source": []
  }
 ],
 "metadata": {
  "kernelspec": {
   "display_name": "Python 3 (ipykernel)",
   "language": "python",
   "name": "python3"
  },
  "language_info": {
   "codemirror_mode": {
    "name": "ipython",
    "version": 3
   },
   "file_extension": ".py",
   "mimetype": "text/x-python",
   "name": "python",
   "nbconvert_exporter": "python",
   "pygments_lexer": "ipython3",
   "version": "3.9.6"
  }
 },
 "nbformat": 4,
 "nbformat_minor": 5
}
