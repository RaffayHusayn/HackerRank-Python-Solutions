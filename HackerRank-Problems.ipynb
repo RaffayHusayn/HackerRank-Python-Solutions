{
 "cells": [
  {
   "cell_type": "code",
   "execution_count": null,
   "id": "8e6c87d2",
   "metadata": {},
   "outputs": [],
   "source": [
    "import numpy as np\n",
    "np.set_printoptions(legacy='1.13')"
   ]
  },
  {
   "cell_type": "markdown",
   "id": "360496f1",
   "metadata": {},
   "source": [
    "# HACKER RANK NUMPY PROBLEMS"
   ]
  },
  {
   "cell_type": "markdown",
   "id": "6d6e4a1c",
   "metadata": {},
   "source": [
    "### TASK 1: \n",
    "#### You are given a space separated list of numbers.\n",
    "#### Your task is to print a reversed NumPy array with the element type float."
   ]
  },
  {
   "cell_type": "code",
   "execution_count": null,
   "id": "a145ff28",
   "metadata": {},
   "outputs": [],
   "source": [
    "import numpy as np\n",
    "def arrays(arr):\n",
    "    # complete this function\n",
    "    # use numpy.array\n",
    "    return np.array(arr, float)[::-1]\n",
    "\n",
    "arr = input().strip().split(' ')\n",
    "result = arrays(arr)\n",
    "print(result)"
   ]
  },
  {
   "cell_type": "markdown",
   "id": "bd54162e",
   "metadata": {},
   "source": [
    "## TASK 2: \n",
    "#### You are given a space separated list of nine integers. Your task is to convert this list into a X NumPy array."
   ]
  },
  {
   "cell_type": "code",
   "execution_count": null,
   "id": "8148c1ae",
   "metadata": {},
   "outputs": [],
   "source": [
    "import numpy as np\n",
    "a = np.array(input().split(' '), int)\n",
    "print(a.reshape(3,3))\n",
    " "
   ]
  },
  {
   "cell_type": "markdown",
   "id": "a3ce352f",
   "metadata": {},
   "source": [
    "## TASK 3:\n",
    "#### You are given a X integer array matrix with space separated elements ( = rows and  = columns).\n",
    "#### Your task is to print the transpose and flatten results."
   ]
  },
  {
   "cell_type": "code",
   "execution_count": null,
   "id": "5f287bf8",
   "metadata": {},
   "outputs": [],
   "source": [
    "import numpy as np\n",
    "\n",
    "row , col = map(int, input().split())\n",
    "l = [ list(map(int, input().split()))for _ in range(row)]\n",
    "\n",
    "nplist = np.array(l)[:,:col]\n",
    "flattenList = nplist.flatten()\n",
    "transposeList = np.transpose(nplist)\n",
    "\n",
    "print(transposeList)\n",
    "print(flattenList)\n",
    "\n"
   ]
  },
  {
   "cell_type": "markdown",
   "id": "004e248b",
   "metadata": {},
   "source": [
    "## TASK 4:\n",
    "#### You are given two integer arrays of size X and X ( &  are rows, and  is the column). Your task is to concatenate the arrays along axis ."
   ]
  },
  {
   "cell_type": "code",
   "execution_count": null,
   "id": "197e076b",
   "metadata": {},
   "outputs": [],
   "source": [
    "import numpy as np\n",
    "\n",
    "N, M, P = map(int,input().split())\n",
    "arrayA = [list(map(int, input().split()))for _ in range(N)]\n",
    "arrayB = [list(map(int, input().split()))for _ in range(M)]\n",
    "npA = np.array(arrayA)[:, :P]#all rows, only first P col\n",
    "npB = np.array(arrayB)[:, :P]\n",
    "conArray = np.concatenate((npA, npB), axis =0)#(3,2) con (4,2)--> (7,2) if axis = 0\n",
    "print(conArray)"
   ]
  },
  {
   "cell_type": "markdown",
   "id": "6941190a",
   "metadata": {},
   "source": [
    "## TASK 5:\n",
    "#### You are given the shape of the array in the form of space-separated integers, each integer representing the size of different dimensions, your task is to print an array of the given shape and integer type using the tools numpy.zeros and numpy.ones."
   ]
  },
  {
   "cell_type": "code",
   "execution_count": null,
   "id": "551e9f89",
   "metadata": {},
   "outputs": [],
   "source": [
    "import numpy as np\n",
    "\n",
    "dimensions = list(map(int, input().split()))\n",
    "ones = np.ones(dimensions, int)#floats by default\n",
    "zeros = np.zeros(dimensions, int)#floats by default\n",
    "print(zeros)\n",
    "print(ones)\n"
   ]
  },
  {
   "cell_type": "markdown",
   "id": "afb238e8",
   "metadata": {},
   "source": [
    "## TASK 6:\n",
    "#### Your task is to print an array of size X with its main diagonal elements as 's and 's everywhere else."
   ]
  },
  {
   "cell_type": "code",
   "execution_count": null,
   "id": "539374f5",
   "metadata": {},
   "outputs": [],
   "source": [
    "import numpy as np\n",
    "np.set_printoptions(legacy='1.13')\n",
    "\n",
    "N,M = map(int, input().split())\n",
    "print(np.eye(N,M, k=0))"
   ]
  },
  {
   "cell_type": "markdown",
   "id": "5f3bbb8f",
   "metadata": {},
   "source": [
    "## TASK 7: \n",
    "####  are given two integer arrays,  and  of dimensions X.\n",
    "#### Your task is to perform the following operations:\n",
    "\n",
    "#### Add ( + )\n",
    "#### Subtract ( - )\n",
    "#### Multiply ( * )\n",
    "#### Integer Division ( / )\n",
    "#### Mod ( % )\n",
    "#### Power ( ** )"
   ]
  },
  {
   "cell_type": "code",
   "execution_count": null,
   "id": "aa9daf70",
   "metadata": {},
   "outputs": [],
   "source": [
    "import numpy as np\n",
    "N, M = map(int, input().split())\n",
    "arrayA = [list(map(int, input().split())) for _ in range(N)]\n",
    "arrayB = [list(map(int, input().split())) for _ in range (N)]\n",
    "npA = np.array(arrayA, int)[:,:M]\n",
    "npB = np.array(arrayB, int)[:,:M]\n",
    "\n",
    "print(npA+npB)\n",
    "print(npA-npB)\n",
    "print(npA*npB)\n",
    "print(npA//npB)\n",
    "print(npA%npB)\n",
    "print(npA**npB)"
   ]
  },
  {
   "cell_type": "markdown",
   "id": "29da1ffe",
   "metadata": {},
   "source": [
    "## TASK 8:\n",
    "#### You are given a 1-D array, A . Your task is to print the *floor, ceiling and rint*  of all the elements of ."
   ]
  },
  {
   "cell_type": "code",
   "execution_count": null,
   "id": "16392e47",
   "metadata": {},
   "outputs": [],
   "source": [
    "import numpy as np\n",
    "np.set_printoptions(legacy='1.13')\n",
    "\n",
    "arr = list(map(float, input().split()))\n",
    "npA = np.array(arr)\n",
    "print(np.floor(npA))\n",
    "print(np.ceil(npA))\n",
    "print(np.rint(npA))"
   ]
  },
  {
   "cell_type": "markdown",
   "id": "5aa2c687",
   "metadata": {},
   "source": [
    "## TASK 9:\n",
    "#### You are given a 2-D array with dimensions N x M.\n",
    "#### Your task is to perform the sum tool over axis 0  and then find the product of that result."
   ]
  },
  {
   "cell_type": "code",
   "execution_count": null,
   "id": "f72f9e59",
   "metadata": {},
   "outputs": [],
   "source": [
    "import numpy as np\n",
    "\n",
    "N, M = map(int, input().split())\n",
    "arrA = [list(map(int, input().split()))for i in range(N)]\n",
    "npA = np.array(arrA)\n",
    "sumnpA = np.sum(npA , axis = 0)\n",
    "print(np.prod(sumnpA))"
   ]
  }
 ],
 "metadata": {
  "kernelspec": {
   "display_name": "Python 3 (ipykernel)",
   "language": "python",
   "name": "python3"
  },
  "language_info": {
   "codemirror_mode": {
    "name": "ipython",
    "version": 3
   },
   "file_extension": ".py",
   "mimetype": "text/x-python",
   "name": "python",
   "nbconvert_exporter": "python",
   "pygments_lexer": "ipython3",
   "version": "3.9.6"
  }
 },
 "nbformat": 4,
 "nbformat_minor": 5
}
