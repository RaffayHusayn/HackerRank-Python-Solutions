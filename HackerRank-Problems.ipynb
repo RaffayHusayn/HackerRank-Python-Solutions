{
 "cells": [
  {
   "cell_type": "markdown",
   "id": "f45d9d8f",
   "metadata": {},
   "source": [
    "# HACKER RANK NUMPY PROBLEMS"
   ]
  },
  {
   "cell_type": "markdown",
   "id": "5f96e3d1",
   "metadata": {},
   "source": [
    "### TASK 1: \n",
    "#### You are given a space separated list of numbers.\n",
    "#### Your task is to print a reversed NumPy array with the element type float."
   ]
  },
  {
   "cell_type": "code",
   "execution_count": null,
   "id": "1f354a7f",
   "metadata": {},
   "outputs": [],
   "source": [
    "import numpy as np\n",
    "def arrays(arr):\n",
    "    # complete this function\n",
    "    # use numpy.array\n",
    "    return np.array(arr, float)[::-1]\n",
    "\n",
    "arr = input().strip().split(' ')\n",
    "result = arrays(arr)\n",
    "print(result)"
   ]
  },
  {
   "cell_type": "markdown",
   "id": "7884fbd0",
   "metadata": {},
   "source": [
    "## TASK 2: \n",
    "#### You are given a space separated list of nine integers. Your task is to convert this list into a X NumPy array."
   ]
  },
  {
   "cell_type": "code",
   "execution_count": null,
   "id": "f188907a",
   "metadata": {},
   "outputs": [],
   "source": [
    "import numpy as np\n",
    "a = np.array(input().split(' '), int)\n",
    "print(a.reshape(3,3))\n",
    " "
   ]
  },
  {
   "cell_type": "markdown",
   "id": "ce7189d5",
   "metadata": {},
   "source": [
    "## TASK 3:\n",
    "#### You are given a X integer array matrix with space separated elements ( = rows and  = columns).\n",
    "#### Your task is to print the transpose and flatten results."
   ]
  },
  {
   "cell_type": "code",
   "execution_count": null,
   "id": "c8ff955b",
   "metadata": {},
   "outputs": [],
   "source": [
    "import numpy as np\n",
    "\n",
    "row , col = map(int, input().split())\n",
    "l = [ list(map(int, input().split()))for _ in range(row)]\n",
    "\n",
    "nplist = np.array(l)[:,:col]\n",
    "flattenList = nplist.flatten()\n",
    "transposeList = np.transpose(nplist)\n",
    "\n",
    "print(transposeList)\n",
    "print(flattenList)\n",
    "\n"
   ]
  },
  {
   "cell_type": "markdown",
   "id": "fdb62e87",
   "metadata": {},
   "source": [
    "## TASK 4:\n",
    "#### You are given two integer arrays of size X and X ( &  are rows, and  is the column). Your task is to concatenate the arrays along axis ."
   ]
  },
  {
   "cell_type": "code",
   "execution_count": null,
   "id": "04fce1e6",
   "metadata": {},
   "outputs": [],
   "source": [
    "import numpy as np\n",
    "\n",
    "N, M, P = map(int,input().split())\n",
    "arrayA = [list(map(int, input().split()))for _ in range(N)]\n",
    "arrayB = [list(map(int, input().split()))for _ in range(M)]\n",
    "npA = np.array(arrayA)[:, :P]#all rows, only first P col\n",
    "npB = np.array(arrayB)[:, :P]\n",
    "conArray = np.concatenate((npA, npB), axis =0)#(3,2) con (4,2)--> (7,2) if axis = 0\n",
    "print(conArray)"
   ]
  },
  {
   "cell_type": "markdown",
   "id": "19ff0ef0",
   "metadata": {},
   "source": [
    "## TASK 5:\n",
    "#### You are given the shape of the array in the form of space-separated integers, each integer representing the size of different dimensions, your task is to print an array of the given shape and integer type using the tools numpy.zeros and numpy.ones."
   ]
  },
  {
   "cell_type": "code",
   "execution_count": null,
   "id": "d743f5d1",
   "metadata": {},
   "outputs": [],
   "source": [
    "import numpy as np\n",
    "\n",
    "dimensions = list(map(int, input().split()))\n",
    "ones = np.ones(dimensions, int)#floats by default\n",
    "zeros = np.zeros(dimensions, int)#floats by default\n",
    "print(zeros)\n",
    "print(ones)\n"
   ]
  },
  {
   "cell_type": "markdown",
   "id": "58a3c797",
   "metadata": {},
   "source": [
    "## TASK 6:\n",
    "#### Your task is to print an array of size X with its main diagonal elements as 's and 's everywhere else."
   ]
  },
  {
   "cell_type": "code",
   "execution_count": null,
   "id": "2849d332",
   "metadata": {},
   "outputs": [],
   "source": [
    "import numpy as np\n",
    "np.set_printoptions(legacy='1.13')\n",
    "\n",
    "N,M = map(int, input().split())\n",
    "print(np.eye(N,M, k=0))"
   ]
  },
  {
   "cell_type": "markdown",
   "id": "0fab725b",
   "metadata": {},
   "source": [
    "## TASK "
   ]
  }
 ],
 "metadata": {
  "kernelspec": {
   "display_name": "Python 3 (ipykernel)",
   "language": "python",
   "name": "python3"
  },
  "language_info": {
   "codemirror_mode": {
    "name": "ipython",
    "version": 3
   },
   "file_extension": ".py",
   "mimetype": "text/x-python",
   "name": "python",
   "nbconvert_exporter": "python",
   "pygments_lexer": "ipython3",
   "version": "3.9.6"
  }
 },
 "nbformat": 4,
 "nbformat_minor": 5
}
