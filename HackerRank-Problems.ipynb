{
 "cells": [
  {
   "cell_type": "markdown",
   "id": "0cdd2283",
   "metadata": {},
   "source": [
    "# HACKER RANK NUMPY PROBLEMS"
   ]
  },
  {
   "cell_type": "markdown",
   "id": "eb36377e",
   "metadata": {},
   "source": [
    "### TASK 1: \n",
    "#### You are given a space separated list of numbers.\n",
    "#### Your task is to print a reversed NumPy array with the element type float."
   ]
  },
  {
   "cell_type": "code",
   "execution_count": null,
   "id": "0de60af5",
   "metadata": {},
   "outputs": [],
   "source": [
    "import numpy as np\n",
    "def arrays(arr):\n",
    "    # complete this function\n",
    "    # use numpy.array\n",
    "    return np.array(arr, float)[::-1]\n",
    "\n",
    "arr = input().strip().split(' ')\n",
    "result = arrays(arr)\n",
    "print(result)"
   ]
  },
  {
   "cell_type": "markdown",
   "id": "7acbca94",
   "metadata": {},
   "source": [
    "## TASK 2: \n",
    "#### You are given a space separated list of nine integers. Your task is to convert this list into a X NumPy array."
   ]
  },
  {
   "cell_type": "code",
   "execution_count": null,
   "id": "bcb73ca9",
   "metadata": {},
   "outputs": [],
   "source": [
    "import numpy as np\n",
    "a = np.array(input().split(' '), int)\n",
    "print(a.reshape(3,3))\n",
    " "
   ]
  },
  {
   "cell_type": "markdown",
   "id": "8733da3b",
   "metadata": {},
   "source": [
    "## TASK 3:\n",
    "#### You are given a X integer array matrix with space separated elements ( = rows and  = columns).\n",
    "#### Your task is to print the transpose and flatten results."
   ]
  },
  {
   "cell_type": "code",
   "execution_count": null,
   "id": "7761eb01",
   "metadata": {},
   "outputs": [],
   "source": [
    "import numpy as np\n",
    "\n",
    "row , col = map(int, input().split())\n",
    "l = [ list(map(int, input().split()))for _ in range(row)]\n",
    "\n",
    "nplist = np.array(l)[:,:col]\n",
    "flattenList = nplist.flatten()\n",
    "transposeList = np.transpose(nplist)\n",
    "\n",
    "print(transposeList)\n",
    "print(flattenList)\n",
    "\n"
   ]
  },
  {
   "cell_type": "markdown",
   "id": "e4717bcf",
   "metadata": {},
   "source": [
    "## TASK 4:\n",
    "#### You are given two integer arrays of size X and X ( &  are rows, and  is the column). Your task is to concatenate the arrays along axis ."
   ]
  },
  {
   "cell_type": "code",
   "execution_count": null,
   "id": "ada1dbff",
   "metadata": {},
   "outputs": [],
   "source": [
    "import numpy as np\n",
    "\n",
    "N, M, P = map(int,input().split())\n",
    "arrayA = [list(map(int, input().split()))for _ in range(N)]\n",
    "arrayB = [list(map(int, input().split()))for _ in range(M)]\n",
    "npA = np.array(arrayA)[:, :P]#all rows, only first P col\n",
    "npB = np.array(arrayB)[:, :P]\n",
    "conArray = np.concatenate((npA, npB), axis =0)#(3,2) con (4,2)--> (7,2) if axis = 0\n",
    "print(conArray)"
   ]
  },
  {
   "cell_type": "markdown",
   "id": "6ecbe36e",
   "metadata": {},
   "source": [
    "## TASK 5:\n",
    "#### "
   ]
  }
 ],
 "metadata": {
  "kernelspec": {
   "display_name": "Python 3 (ipykernel)",
   "language": "python",
   "name": "python3"
  },
  "language_info": {
   "codemirror_mode": {
    "name": "ipython",
    "version": 3
   },
   "file_extension": ".py",
   "mimetype": "text/x-python",
   "name": "python",
   "nbconvert_exporter": "python",
   "pygments_lexer": "ipython3",
   "version": "3.9.6"
  }
 },
 "nbformat": 4,
 "nbformat_minor": 5
}
