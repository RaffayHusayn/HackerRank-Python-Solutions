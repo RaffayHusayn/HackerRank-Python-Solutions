{
 "cells": [
  {
   "cell_type": "markdown",
   "id": "0cdf7783",
   "metadata": {},
   "source": [
    "# HACKER RANK NUMPY PROBLEMS"
   ]
  },
  {
   "cell_type": "markdown",
   "id": "b59f5c26",
   "metadata": {},
   "source": [
    "### TASK 1: \n",
    "#### You are given a space separated list of numbers.\n",
    "#### Your task is to print a reversed NumPy array with the element type float."
   ]
  },
  {
   "cell_type": "code",
   "execution_count": null,
   "id": "e096fea7",
   "metadata": {},
   "outputs": [],
   "source": [
    "import numpy as np\n",
    "def arrays(arr):\n",
    "    # complete this function\n",
    "    # use numpy.array\n",
    "    return np.array(arr, float)[::-1]\n",
    "\n",
    "arr = input().strip().split(' ')\n",
    "result = arrays(arr)\n",
    "print(result)"
   ]
  },
  {
   "cell_type": "code",
   "execution_count": null,
   "id": "a8150e6d",
   "metadata": {},
   "outputs": [],
   "source": []
  }
 ],
 "metadata": {
  "kernelspec": {
   "display_name": "Python 3 (ipykernel)",
   "language": "python",
   "name": "python3"
  },
  "language_info": {
   "codemirror_mode": {
    "name": "ipython",
    "version": 3
   },
   "file_extension": ".py",
   "mimetype": "text/x-python",
   "name": "python",
   "nbconvert_exporter": "python",
   "pygments_lexer": "ipython3",
   "version": "3.9.6"
  }
 },
 "nbformat": 4,
 "nbformat_minor": 5
}
