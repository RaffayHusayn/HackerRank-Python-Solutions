{
 "cells": [
  {
   "cell_type": "markdown",
   "id": "8f2f954d",
   "metadata": {},
   "source": [
    "# General Python Hacker Rank Questions"
   ]
  },
  {
   "cell_type": "markdown",
   "id": "084452b3",
   "metadata": {},
   "source": [
    "## Task 1:\n",
    "\n",
    "In this challenge, the user enters a string and a substring. You have to print the number of times that the substring occurs in the given string. String traversal will take place from left to right, not from right to left.\n",
    "\n",
    "#### Input Format\n",
    "The first line of input contains the original string. The next line contains the substring.\n",
    "\n",
    "#### Output Format\n",
    "Output the integer number indicating the total number of occurrences of the substring in the original string.\n",
    "\n",
    "#### Sample Input\n",
    "String: ABCDCDC\n",
    "Substring: CDC\n",
    "\n",
    "#### Sample Output\n",
    "2"
   ]
  },
  {
   "cell_type": "code",
   "execution_count": 1,
   "id": "427cb7c3",
   "metadata": {},
   "outputs": [
    {
     "name": "stdout",
     "output_type": "stream",
     "text": [
      "ababab\n",
      "ab\n",
      "3\n"
     ]
    }
   ],
   "source": [
    "def count_substring(string, sub_string):\n",
    "    count = 0\n",
    "    subLen = len(sub_string)\n",
    "    if len(string) >= subLen: #because why even try if string is shorter than substring; always 0\n",
    "        for i in range(len(string)-subLen+1):#to not have to go till the end of the string\n",
    "            if string[i:i+subLen] == sub_string:\n",
    "             count = count+1\n",
    "    return count        \n",
    "\n",
    "if __name__ == '__main__':\n",
    "    string = input().strip()\n",
    "    sub_string = input().strip()\n",
    "    \n",
    "    count = count_substring(string, sub_string)\n",
    "    print(count)"
   ]
  },
  {
   "cell_type": "code",
   "execution_count": null,
   "id": "2dafff48",
   "metadata": {},
   "outputs": [],
   "source": [
    "##"
   ]
  }
 ],
 "metadata": {
  "kernelspec": {
   "display_name": "Python 3 (ipykernel)",
   "language": "python",
   "name": "python3"
  },
  "language_info": {
   "codemirror_mode": {
    "name": "ipython",
    "version": 3
   },
   "file_extension": ".py",
   "mimetype": "text/x-python",
   "name": "python",
   "nbconvert_exporter": "python",
   "pygments_lexer": "ipython3",
   "version": "3.9.6"
  }
 },
 "nbformat": 4,
 "nbformat_minor": 5
}
